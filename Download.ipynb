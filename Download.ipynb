{
 "cells": [
  {
   "cell_type": "code",
   "execution_count": 3,
   "id": "d18c133b-855a-4cc6-b4a5-bd0066f91109",
   "metadata": {},
   "outputs": [
    {
     "name": "stdout",
     "output_type": "stream",
     "text": [
      "/home/ma-user/work/Speech-Transformer\n"
     ]
    }
   ],
   "source": [
    "import os\n",
    "print(os.getcwd())\n",
    "\n",
    "import moxing as mox\n",
    "mox.file.copy('./BEST_checkpoint.tar', 'obs://dcd0c2c2c3c7448bbe82e93deff202ae/nlp-project-pytorch/BEST_checkpoint.tar')\n",
    "mox.file.copy('./checkpoint.tar', 'obs://dcd0c2c2c3c7448bbe82e93deff202ae/nlp-project-pytorch/checkpoint.tar')\n",
    "mox.file.copy('../test.txt', 'obs://dcd0c2c2c3c7448bbe82e93deff202ae/nlp-project-pytorch/test.txt')\n"
   ]
  },
  {
   "cell_type": "code",
   "execution_count": null,
   "id": "77e2ca04-36d4-48a9-a36e-9eafec93b0bf",
   "metadata": {},
   "outputs": [],
   "source": []
  },
  {
   "cell_type": "code",
   "execution_count": null,
   "id": "834044f9-bcc7-4cb7-9c3a-0cbcda46a856",
   "metadata": {},
   "outputs": [],
   "source": []
  }
 ],
 "metadata": {
  "kernelspec": {
   "display_name": "PyTorch-1.8",
   "language": "python",
   "name": "pytorch-1.8"
  },
  "language_info": {
   "codemirror_mode": {
    "name": "ipython",
    "version": 3
   },
   "file_extension": ".py",
   "mimetype": "text/x-python",
   "name": "python",
   "nbconvert_exporter": "python",
   "pygments_lexer": "ipython3",
   "version": "3.7.10"
  }
 },
 "nbformat": 4,
 "nbformat_minor": 5
}
